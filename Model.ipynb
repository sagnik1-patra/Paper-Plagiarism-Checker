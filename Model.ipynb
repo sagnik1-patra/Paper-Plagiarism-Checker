{
 "cells": [
  {
   "cell_type": "code",
   "execution_count": 1,
   "id": "ad8f7edc-bb71-4498-a7cb-3cb090b9c378",
   "metadata": {},
   "outputs": [
    {
     "name": "stderr",
     "output_type": "stream",
     "text": [
      "[nltk_data] Error loading punkt: <urlopen error [SSL:\n",
      "[nltk_data]     UNEXPECTED_EOF_WHILE_READING] EOF occurred in\n",
      "[nltk_data]     violation of protocol (_ssl.c:1006)>\n"
     ]
    },
    {
     "name": "stdout",
     "output_type": "stream",
     "text": [
      "❌ Error: \n",
      "**********************************************************************\n",
      "  Resource \u001b[93mpunkt_tab\u001b[0m not found.\n",
      "  Please use the NLTK Downloader to obtain the resource:\n",
      "\n",
      "  \u001b[31m>>> import nltk\n",
      "  >>> nltk.download('punkt_tab')\n",
      "  \u001b[0m\n",
      "  For more information see: https://www.nltk.org/data.html\n",
      "\n",
      "  Attempted to load \u001b[93mtokenizers/punkt_tab/english/\u001b[0m\n",
      "\n",
      "  Searched in:\n",
      "    - 'C:\\\\Users\\\\sagni/nltk_data'\n",
      "    - 'C:\\\\Users\\\\sagni\\\\AppData\\\\Local\\\\Programs\\\\Python\\\\Python311\\\\nltk_data'\n",
      "    - 'C:\\\\Users\\\\sagni\\\\AppData\\\\Local\\\\Programs\\\\Python\\\\Python311\\\\share\\\\nltk_data'\n",
      "    - 'C:\\\\Users\\\\sagni\\\\AppData\\\\Local\\\\Programs\\\\Python\\\\Python311\\\\lib\\\\nltk_data'\n",
      "    - 'C:\\\\Users\\\\sagni\\\\AppData\\\\Roaming\\\\nltk_data'\n",
      "    - 'C:\\\\nltk_data'\n",
      "    - 'D:\\\\nltk_data'\n",
      "    - 'E:\\\\nltk_data'\n",
      "**********************************************************************\n",
      "\n",
      "⚠️ No valid sentences found.\n"
     ]
    }
   ],
   "source": [
    "import nltk\n",
    "from nltk.tokenize import sent_tokenize\n",
    "\n",
    "# Ensure punkt is downloaded\n",
    "nltk.download('punkt')\n",
    "\n",
    "# Load PDF\n",
    "from PyPDF2 import PdfReader\n",
    "\n",
    "def extract_sentences_from_pdf(pdf_path):\n",
    "    try:\n",
    "        reader = PdfReader(pdf_path)\n",
    "        text = \"\"\n",
    "        for page in reader.pages:\n",
    "            text += page.extract_text() or \"\"\n",
    "        \n",
    "        # Correct sentence tokenizer\n",
    "        sentences = sent_tokenize(text)\n",
    "        return sentences\n",
    "    except Exception as e:\n",
    "        print(\"❌ Error:\", e)\n",
    "        return []\n",
    "\n",
    "pdf_path = r\"C:\\Users\\sagni\\Downloads\\Band Selection\\paper\\IIIT Paper.pdf\"\n",
    "sentences = extract_sentences_from_pdf(pdf_path)\n",
    "\n",
    "if sentences:\n",
    "    print(\"✅ Extracted sentences:\")\n",
    "    for s in sentences[:5]:  # print first 5 sentences\n",
    "        print(\"-\", s)\n",
    "else:\n",
    "    print(\"⚠️ No valid sentences found.\")\n"
   ]
  },
  {
   "cell_type": "code",
   "execution_count": null,
   "id": "b201a5f4-8c7f-4a3c-b421-ee626665ebd0",
   "metadata": {},
   "outputs": [],
   "source": []
  }
 ],
 "metadata": {
  "kernelspec": {
   "display_name": "Python 3.11 (moviepy)",
   "language": "python",
   "name": "py311"
  },
  "language_info": {
   "codemirror_mode": {
    "name": "ipython",
    "version": 3
   },
   "file_extension": ".py",
   "mimetype": "text/x-python",
   "name": "python",
   "nbconvert_exporter": "python",
   "pygments_lexer": "ipython3",
   "version": "3.11.9"
  }
 },
 "nbformat": 4,
 "nbformat_minor": 5
}
