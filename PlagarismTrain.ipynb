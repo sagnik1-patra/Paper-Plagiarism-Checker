{
 "cells": [
  {
   "cell_type": "code",
   "execution_count": 1,
   "id": "8f1e2a68-19d4-43cb-8805-412464188627",
   "metadata": {},
   "outputs": [
    {
     "name": "stderr",
     "output_type": "stream",
     "text": [
      "C:\\Users\\sagni\\AppData\\Local\\Temp\\ipykernel_20224\\769588223.py:17: PerformanceWarning: \n",
      "your performance may suffer as PyTables will pickle object types that it cannot\n",
      "map directly to c-types [inferred_type->mixed,key->block0_values] [items->Index(['sentence1', 'sentence2'], dtype='object')]\n",
      "\n",
      "  df.to_hdf(f\"{output_base}.h5\", key=\"data\", mode=\"w\")\n"
     ]
    },
    {
     "name": "stdout",
     "output_type": "stream",
     "text": [
      "✅ Conversion complete: CSV, HDF5, Pickle, and YAML files saved.\n"
     ]
    }
   ],
   "source": [
    "import pandas as pd\n",
    "import yaml\n",
    "\n",
    "# File path for input\n",
    "input_path = r\"C:\\Users\\sagni\\Downloads\\Paper Plagarism Checker\\train_snli.txt\"\n",
    "\n",
    "# Load TSV file\n",
    "df = pd.read_csv(input_path, sep=\"\\t\", header=None, names=[\"sentence1\", \"sentence2\", \"label\"])\n",
    "\n",
    "# Output base path (same directory)\n",
    "output_base = r\"C:\\Users\\sagni\\Downloads\\Paper Plagarism Checker\\train_snli\"\n",
    "\n",
    "# Save as CSV\n",
    "df.to_csv(f\"{output_base}.csv\", index=False)\n",
    "\n",
    "# Save as HDF5 (.h5)\n",
    "df.to_hdf(f\"{output_base}.h5\", key=\"data\", mode=\"w\")\n",
    "\n",
    "# Save as Pickle (.pkl)\n",
    "df.to_pickle(f\"{output_base}.pkl\")\n",
    "\n",
    "# Save as YAML (.yaml)\n",
    "yaml_data = df.to_dict(orient=\"records\")\n",
    "with open(f\"{output_base}.yaml\", \"w\", encoding=\"utf-8\") as f:\n",
    "    yaml.dump(yaml_data, f, allow_unicode=True)\n",
    "\n",
    "print(\"✅ Conversion complete: CSV, HDF5, Pickle, and YAML files saved.\")\n"
   ]
  },
  {
   "cell_type": "code",
   "execution_count": null,
   "id": "bb7c76a1-6a74-418e-a0d5-9449c4aa15e2",
   "metadata": {},
   "outputs": [],
   "source": []
  }
 ],
 "metadata": {
  "kernelspec": {
   "display_name": "Python 3.11 (moviepy)",
   "language": "python",
   "name": "py311"
  },
  "language_info": {
   "codemirror_mode": {
    "name": "ipython",
    "version": 3
   },
   "file_extension": ".py",
   "mimetype": "text/x-python",
   "name": "python",
   "nbconvert_exporter": "python",
   "pygments_lexer": "ipython3",
   "version": "3.11.9"
  }
 },
 "nbformat": 4,
 "nbformat_minor": 5
}
